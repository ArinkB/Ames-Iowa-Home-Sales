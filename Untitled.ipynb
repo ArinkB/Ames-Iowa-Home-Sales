{
 "cells": [
  {
   "cell_type": "code",
   "execution_count": null,
   "metadata": {},
   "outputs": [],
   "source": []
  }
 ],
 "metadata": {
  "kernelspec": {
   "display_name": "Python 3.7.6 64-bit ('base': conda)",
   "language": "python",
   "name": "python37664bitbaseconda2e815bb84b304db590ec597ecd5cd1d4"
  }
 },
 "nbformat": 4,
 "nbformat_minor": 4
}
