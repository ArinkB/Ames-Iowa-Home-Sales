{
 "cells": [
  {
   "cell_type": "markdown",
   "metadata": {},
   "source": [
    "# Predicting Ames Housing Sales - One Hot Encoder"
   ]
  },
  {
   "cell_type": "markdown",
   "metadata": {},
   "source": [
    "#### Jump To:\n",
    "- [Creating Features](#feat)\n",
    "    - [Polynomial Features](#poly)\n",
    "- [One Hot Encoding](#one_hot)\n",
    "- [Modeling](#model)\n",
    "    - [Linear Regression](#lr)\n",
    "    - [LassoCV](#lasso)\n",
    "    - [RidgeCV](#ridge)\n",
    "    - [Lasso GridSearch](#lassogs)"
   ]
  },
  {
   "cell_type": "markdown",
   "metadata": {},
   "source": [
    "### Imports "
   ]
  },
  {
   "cell_type": "code",
   "execution_count": 1,
   "metadata": {},
   "outputs": [
    {
     "name": "stderr",
     "output_type": "stream",
     "text": [
      "C:\\Users\\spank\\AppData\\Local\\Programs\\Python\\Python38-32\\lib\\site-packages\\sklearn\\utils\\deprecation.py:143: FutureWarning: The sklearn.linear_model.ridge module is  deprecated in version 0.22 and will be removed in version 0.24. The corresponding classes / functions should instead be imported from sklearn.linear_model. Anything that cannot be imported from sklearn.linear_model is now part of the private API.\n",
      "  warnings.warn(message, FutureWarning)\n"
     ]
    }
   ],
   "source": [
    "import numpy as np\n",
    "import pandas as pd\n",
    "\n",
    "import matplotlib.pyplot as plt\n",
    "import seaborn as sns\n",
    "%matplotlib inline\n",
    "\n",
    "from sklearn.metrics import r2_score, mean_absolute_error, mean_squared_error, mean_squared_log_error\n",
    "from sklearn.linear_model import Lasso, ridge, LinearRegression, LassoCV, ElasticNetCV, RidgeCV, LogisticRegression\n",
    "from sklearn.preprocessing import StandardScaler, PolynomialFeatures\n",
    "from sklearn.model_selection import cross_val_score, train_test_split, GridSearchCV\n",
    "from sklearn.pipeline import Pipeline, make_pipeline\n",
    "\n",
    "import statsmodels.api as sm"
   ]
  },
  {
   "cell_type": "markdown",
   "metadata": {},
   "source": [
    "### Reading in our datasets\n",
    "- train and test csv were cleaned and resaved in 'Ames-Training-Data-EDA-Feature.ipynb'"
   ]
  },
  {
   "cell_type": "code",
   "execution_count": 3,
   "metadata": {},
   "outputs": [],
   "source": [
    "train_df = pd.read_csv('../datasets/train_clean.csv')\n",
    "test_df = pd.read_csv('../datasets/test_clean.csv')"
   ]
  },
  {
   "cell_type": "markdown",
   "metadata": {},
   "source": [
    "<a id='feat'></a>\n",
    "### Selecting my features"
   ]
  },
  {
   "cell_type": "code",
   "execution_count": 4,
   "metadata": {},
   "outputs": [
    {
     "data": {
      "text/html": [
       "<div>\n",
       "<style scoped>\n",
       "    .dataframe tbody tr th:only-of-type {\n",
       "        vertical-align: middle;\n",
       "    }\n",
       "\n",
       "    .dataframe tbody tr th {\n",
       "        vertical-align: top;\n",
       "    }\n",
       "\n",
       "    .dataframe thead th {\n",
       "        text-align: right;\n",
       "    }\n",
       "</style>\n",
       "<table border=\"1\" class=\"dataframe\">\n",
       "  <thead>\n",
       "    <tr style=\"text-align: right;\">\n",
       "      <th></th>\n",
       "      <th>Id</th>\n",
       "      <th>PID</th>\n",
       "      <th>MS SubClass</th>\n",
       "      <th>MS Zoning</th>\n",
       "      <th>Lot Frontage</th>\n",
       "      <th>Lot Area</th>\n",
       "      <th>Street</th>\n",
       "      <th>Alley</th>\n",
       "      <th>Lot Shape</th>\n",
       "      <th>Land Contour</th>\n",
       "      <th>...</th>\n",
       "      <th>Mo Sold</th>\n",
       "      <th>Yr Sold</th>\n",
       "      <th>Sale Type</th>\n",
       "      <th>SalePrice</th>\n",
       "      <th>Has Pool</th>\n",
       "      <th>Has Fence</th>\n",
       "      <th>Has Fireplace</th>\n",
       "      <th>Finished Basement</th>\n",
       "      <th>Total Bath</th>\n",
       "      <th>Total SF</th>\n",
       "    </tr>\n",
       "  </thead>\n",
       "  <tbody>\n",
       "    <tr>\n",
       "      <th>0</th>\n",
       "      <td>109</td>\n",
       "      <td>533352170</td>\n",
       "      <td>60</td>\n",
       "      <td>RL</td>\n",
       "      <td>69.0</td>\n",
       "      <td>13517</td>\n",
       "      <td>Pave</td>\n",
       "      <td>0</td>\n",
       "      <td>IR1</td>\n",
       "      <td>Lvl</td>\n",
       "      <td>...</td>\n",
       "      <td>3</td>\n",
       "      <td>2010</td>\n",
       "      <td>WD</td>\n",
       "      <td>130500</td>\n",
       "      <td>0</td>\n",
       "      <td>0</td>\n",
       "      <td>0</td>\n",
       "      <td>1</td>\n",
       "      <td>2.5</td>\n",
       "      <td>2204.0</td>\n",
       "    </tr>\n",
       "    <tr>\n",
       "      <th>1</th>\n",
       "      <td>544</td>\n",
       "      <td>531379050</td>\n",
       "      <td>60</td>\n",
       "      <td>RL</td>\n",
       "      <td>43.0</td>\n",
       "      <td>11492</td>\n",
       "      <td>Pave</td>\n",
       "      <td>0</td>\n",
       "      <td>IR1</td>\n",
       "      <td>Lvl</td>\n",
       "      <td>...</td>\n",
       "      <td>4</td>\n",
       "      <td>2009</td>\n",
       "      <td>WD</td>\n",
       "      <td>220000</td>\n",
       "      <td>0</td>\n",
       "      <td>0</td>\n",
       "      <td>1</td>\n",
       "      <td>1</td>\n",
       "      <td>3.5</td>\n",
       "      <td>3035.0</td>\n",
       "    </tr>\n",
       "    <tr>\n",
       "      <th>2</th>\n",
       "      <td>153</td>\n",
       "      <td>535304180</td>\n",
       "      <td>20</td>\n",
       "      <td>RL</td>\n",
       "      <td>68.0</td>\n",
       "      <td>7922</td>\n",
       "      <td>Pave</td>\n",
       "      <td>0</td>\n",
       "      <td>Reg</td>\n",
       "      <td>Lvl</td>\n",
       "      <td>...</td>\n",
       "      <td>1</td>\n",
       "      <td>2010</td>\n",
       "      <td>WD</td>\n",
       "      <td>109000</td>\n",
       "      <td>0</td>\n",
       "      <td>0</td>\n",
       "      <td>0</td>\n",
       "      <td>1</td>\n",
       "      <td>2.0</td>\n",
       "      <td>2114.0</td>\n",
       "    </tr>\n",
       "    <tr>\n",
       "      <th>3</th>\n",
       "      <td>318</td>\n",
       "      <td>916386060</td>\n",
       "      <td>60</td>\n",
       "      <td>RL</td>\n",
       "      <td>73.0</td>\n",
       "      <td>9802</td>\n",
       "      <td>Pave</td>\n",
       "      <td>0</td>\n",
       "      <td>Reg</td>\n",
       "      <td>Lvl</td>\n",
       "      <td>...</td>\n",
       "      <td>4</td>\n",
       "      <td>2010</td>\n",
       "      <td>WD</td>\n",
       "      <td>174000</td>\n",
       "      <td>0</td>\n",
       "      <td>0</td>\n",
       "      <td>0</td>\n",
       "      <td>1</td>\n",
       "      <td>2.5</td>\n",
       "      <td>1828.0</td>\n",
       "    </tr>\n",
       "    <tr>\n",
       "      <th>4</th>\n",
       "      <td>255</td>\n",
       "      <td>906425045</td>\n",
       "      <td>50</td>\n",
       "      <td>RL</td>\n",
       "      <td>82.0</td>\n",
       "      <td>14235</td>\n",
       "      <td>Pave</td>\n",
       "      <td>0</td>\n",
       "      <td>IR1</td>\n",
       "      <td>Lvl</td>\n",
       "      <td>...</td>\n",
       "      <td>3</td>\n",
       "      <td>2010</td>\n",
       "      <td>WD</td>\n",
       "      <td>138500</td>\n",
       "      <td>0</td>\n",
       "      <td>0</td>\n",
       "      <td>0</td>\n",
       "      <td>1</td>\n",
       "      <td>2.0</td>\n",
       "      <td>2121.0</td>\n",
       "    </tr>\n",
       "  </tbody>\n",
       "</table>\n",
       "<p>5 rows × 84 columns</p>\n",
       "</div>"
      ],
      "text/plain": [
       "    Id        PID  MS SubClass MS Zoning  Lot Frontage  Lot Area Street  \\\n",
       "0  109  533352170           60        RL          69.0     13517   Pave   \n",
       "1  544  531379050           60        RL          43.0     11492   Pave   \n",
       "2  153  535304180           20        RL          68.0      7922   Pave   \n",
       "3  318  916386060           60        RL          73.0      9802   Pave   \n",
       "4  255  906425045           50        RL          82.0     14235   Pave   \n",
       "\n",
       "   Alley Lot Shape Land Contour  ... Mo Sold Yr Sold Sale Type SalePrice  \\\n",
       "0      0       IR1          Lvl  ...       3    2010       WD     130500   \n",
       "1      0       IR1          Lvl  ...       4    2009       WD     220000   \n",
       "2      0       Reg          Lvl  ...       1    2010       WD     109000   \n",
       "3      0       Reg          Lvl  ...       4    2010       WD     174000   \n",
       "4      0       IR1          Lvl  ...       3    2010       WD     138500   \n",
       "\n",
       "  Has Pool Has Fence Has Fireplace Finished Basement  Total Bath  Total SF  \n",
       "0        0         0             0                 1         2.5    2204.0  \n",
       "1        0         0             1                 1         3.5    3035.0  \n",
       "2        0         0             0                 1         2.0    2114.0  \n",
       "3        0         0             0                 1         2.5    1828.0  \n",
       "4        0         0             0                 1         2.0    2121.0  \n",
       "\n",
       "[5 rows x 84 columns]"
      ]
     },
     "execution_count": 4,
     "metadata": {},
     "output_type": "execute_result"
    }
   ],
   "source": [
    "train_df.head()"
   ]
  },
  {
   "cell_type": "code",
   "execution_count": 5,
   "metadata": {},
   "outputs": [
    {
     "data": {
      "text/html": [
       "<div>\n",
       "<style scoped>\n",
       "    .dataframe tbody tr th:only-of-type {\n",
       "        vertical-align: middle;\n",
       "    }\n",
       "\n",
       "    .dataframe tbody tr th {\n",
       "        vertical-align: top;\n",
       "    }\n",
       "\n",
       "    .dataframe thead th {\n",
       "        text-align: right;\n",
       "    }\n",
       "</style>\n",
       "<table border=\"1\" class=\"dataframe\">\n",
       "  <thead>\n",
       "    <tr style=\"text-align: right;\">\n",
       "      <th></th>\n",
       "      <th>Id</th>\n",
       "      <th>PID</th>\n",
       "      <th>MS SubClass</th>\n",
       "      <th>MS Zoning</th>\n",
       "      <th>Lot Frontage</th>\n",
       "      <th>Lot Area</th>\n",
       "      <th>Street</th>\n",
       "      <th>Alley</th>\n",
       "      <th>Lot Shape</th>\n",
       "      <th>Land Contour</th>\n",
       "      <th>...</th>\n",
       "      <th>Misc Val</th>\n",
       "      <th>Mo Sold</th>\n",
       "      <th>Yr Sold</th>\n",
       "      <th>Sale Type</th>\n",
       "      <th>Has Pool</th>\n",
       "      <th>Has Fence</th>\n",
       "      <th>Has Fireplace</th>\n",
       "      <th>Finished Basement</th>\n",
       "      <th>Total Bath</th>\n",
       "      <th>Total SF</th>\n",
       "    </tr>\n",
       "  </thead>\n",
       "  <tbody>\n",
       "    <tr>\n",
       "      <th>0</th>\n",
       "      <td>2658</td>\n",
       "      <td>902301120</td>\n",
       "      <td>190</td>\n",
       "      <td>RM</td>\n",
       "      <td>69.0</td>\n",
       "      <td>9142</td>\n",
       "      <td>Pave</td>\n",
       "      <td>1</td>\n",
       "      <td>Reg</td>\n",
       "      <td>Lvl</td>\n",
       "      <td>...</td>\n",
       "      <td>0</td>\n",
       "      <td>4</td>\n",
       "      <td>2006</td>\n",
       "      <td>WD</td>\n",
       "      <td>0</td>\n",
       "      <td>0</td>\n",
       "      <td>0</td>\n",
       "      <td>1</td>\n",
       "      <td>2.0</td>\n",
       "      <td>2948</td>\n",
       "    </tr>\n",
       "    <tr>\n",
       "      <th>1</th>\n",
       "      <td>2718</td>\n",
       "      <td>905108090</td>\n",
       "      <td>90</td>\n",
       "      <td>RL</td>\n",
       "      <td>70.0</td>\n",
       "      <td>9662</td>\n",
       "      <td>Pave</td>\n",
       "      <td>0</td>\n",
       "      <td>IR1</td>\n",
       "      <td>Lvl</td>\n",
       "      <td>...</td>\n",
       "      <td>0</td>\n",
       "      <td>8</td>\n",
       "      <td>2006</td>\n",
       "      <td>WD</td>\n",
       "      <td>0</td>\n",
       "      <td>0</td>\n",
       "      <td>0</td>\n",
       "      <td>1</td>\n",
       "      <td>2.0</td>\n",
       "      <td>3934</td>\n",
       "    </tr>\n",
       "    <tr>\n",
       "      <th>2</th>\n",
       "      <td>2414</td>\n",
       "      <td>528218130</td>\n",
       "      <td>60</td>\n",
       "      <td>RL</td>\n",
       "      <td>58.0</td>\n",
       "      <td>17104</td>\n",
       "      <td>Pave</td>\n",
       "      <td>0</td>\n",
       "      <td>IR1</td>\n",
       "      <td>Lvl</td>\n",
       "      <td>...</td>\n",
       "      <td>0</td>\n",
       "      <td>9</td>\n",
       "      <td>2006</td>\n",
       "      <td>New</td>\n",
       "      <td>0</td>\n",
       "      <td>0</td>\n",
       "      <td>1</td>\n",
       "      <td>1</td>\n",
       "      <td>3.5</td>\n",
       "      <td>2150</td>\n",
       "    </tr>\n",
       "    <tr>\n",
       "      <th>3</th>\n",
       "      <td>1989</td>\n",
       "      <td>902207150</td>\n",
       "      <td>30</td>\n",
       "      <td>RM</td>\n",
       "      <td>60.0</td>\n",
       "      <td>8520</td>\n",
       "      <td>Pave</td>\n",
       "      <td>0</td>\n",
       "      <td>Reg</td>\n",
       "      <td>Lvl</td>\n",
       "      <td>...</td>\n",
       "      <td>0</td>\n",
       "      <td>7</td>\n",
       "      <td>2007</td>\n",
       "      <td>WD</td>\n",
       "      <td>0</td>\n",
       "      <td>0</td>\n",
       "      <td>0</td>\n",
       "      <td>1</td>\n",
       "      <td>1.0</td>\n",
       "      <td>1936</td>\n",
       "    </tr>\n",
       "    <tr>\n",
       "      <th>4</th>\n",
       "      <td>625</td>\n",
       "      <td>535105100</td>\n",
       "      <td>20</td>\n",
       "      <td>RL</td>\n",
       "      <td>70.0</td>\n",
       "      <td>9500</td>\n",
       "      <td>Pave</td>\n",
       "      <td>0</td>\n",
       "      <td>IR1</td>\n",
       "      <td>Lvl</td>\n",
       "      <td>...</td>\n",
       "      <td>0</td>\n",
       "      <td>7</td>\n",
       "      <td>2009</td>\n",
       "      <td>WD</td>\n",
       "      <td>0</td>\n",
       "      <td>0</td>\n",
       "      <td>1</td>\n",
       "      <td>1</td>\n",
       "      <td>2.5</td>\n",
       "      <td>2788</td>\n",
       "    </tr>\n",
       "  </tbody>\n",
       "</table>\n",
       "<p>5 rows × 83 columns</p>\n",
       "</div>"
      ],
      "text/plain": [
       "     Id        PID  MS SubClass MS Zoning  Lot Frontage  Lot Area Street  \\\n",
       "0  2658  902301120          190        RM          69.0      9142   Pave   \n",
       "1  2718  905108090           90        RL          70.0      9662   Pave   \n",
       "2  2414  528218130           60        RL          58.0     17104   Pave   \n",
       "3  1989  902207150           30        RM          60.0      8520   Pave   \n",
       "4   625  535105100           20        RL          70.0      9500   Pave   \n",
       "\n",
       "   Alley Lot Shape Land Contour  ... Misc Val Mo Sold Yr Sold Sale Type  \\\n",
       "0      1       Reg          Lvl  ...        0       4    2006       WD    \n",
       "1      0       IR1          Lvl  ...        0       8    2006       WD    \n",
       "2      0       IR1          Lvl  ...        0       9    2006       New   \n",
       "3      0       Reg          Lvl  ...        0       7    2007       WD    \n",
       "4      0       IR1          Lvl  ...        0       7    2009       WD    \n",
       "\n",
       "  Has Pool Has Fence Has Fireplace Finished Basement  Total Bath  Total SF  \n",
       "0        0         0             0                 1         2.0      2948  \n",
       "1        0         0             0                 1         2.0      3934  \n",
       "2        0         0             1                 1         3.5      2150  \n",
       "3        0         0             0                 1         1.0      1936  \n",
       "4        0         0             1                 1         2.5      2788  \n",
       "\n",
       "[5 rows x 83 columns]"
      ]
     },
     "execution_count": 5,
     "metadata": {},
     "output_type": "execute_result"
    }
   ],
   "source": [
    "test_df.head()"
   ]
  },
  {
   "cell_type": "markdown",
   "metadata": {},
   "source": [
    "I will be using the entire dataset, but I'd like to also make some polynomial features of selected categories"
   ]
  },
  {
   "cell_type": "code",
   "execution_count": 6,
   "metadata": {},
   "outputs": [],
   "source": [
    "feat = ['Overall Qual', # overall qual of home\n",
    "    'Total SF', # total SF of home inc basement\n",
    "    'Gr Liv Area', # total sf of 1st & 2nd floor\n",
    "    'Garage Area', # sf of garage \n",
    "    'Total Bath', # total baths in house\n",
    "    'Year Built'] # Year built\n",
    "\n",
    "train_df_X = train_df[feat]\n",
    "test_df_X = test_df[feat]"
   ]
  },
  {
   "cell_type": "markdown",
   "metadata": {},
   "source": [
    "<a id='poly'></a>\n",
    "#### Polynomial Features\n",
    "- Creating some interaction terms based on the features selected above only"
   ]
  },
  {
   "cell_type": "code",
   "execution_count": 7,
   "metadata": {},
   "outputs": [],
   "source": [
    "poly = PolynomialFeatures(include_bias=False)\n",
    "\n",
    "X_poly = poly.fit_transform(train_df_X)\n",
    "#For Test dataset too\n",
    "X_poly_test = poly.fit_transform(test_df_X)"
   ]
  },
  {
   "cell_type": "code",
   "execution_count": 8,
   "metadata": {},
   "outputs": [],
   "source": [
    "# Creating a dataframe of the polynomial features\n",
    "train_df_poly = pd.DataFrame(X_poly, columns = poly.get_feature_names(feat)) \n",
    "test_df_poly = pd.DataFrame(X_poly_test, columns = poly.get_feature_names(feat))"
   ]
  },
  {
   "cell_type": "code",
   "execution_count": 9,
   "metadata": {},
   "outputs": [],
   "source": [
    "#Adding the polynomial features to our original dataset\n",
    "train_poly_df = pd.concat([train_df, train_df_poly], axis=1)\n",
    "test_poly_df = pd.concat([test_df, test_df_poly], axis=1)"
   ]
  },
  {
   "cell_type": "code",
   "execution_count": 10,
   "metadata": {},
   "outputs": [],
   "source": [
    "# Removing duplicated columns, (The original columns that were used to create the Polynomial Features)\n",
    "train_poly_df = train_poly_df.loc[:,~train_poly_df.columns.duplicated()]\n",
    "test_poly_df = test_poly_df.loc[:,~test_poly_df.columns.duplicated()]"
   ]
  },
  {
   "cell_type": "markdown",
   "metadata": {},
   "source": [
    "<a id='one_hot'></a>\n",
    "### One- Hot Encoding\n",
    "- Dummifying all categorical data, let's see what we get with the Kitchen Sink"
   ]
  },
  {
   "cell_type": "code",
   "execution_count": 11,
   "metadata": {},
   "outputs": [
    {
     "data": {
      "text/html": [
       "<div>\n",
       "<style scoped>\n",
       "    .dataframe tbody tr th:only-of-type {\n",
       "        vertical-align: middle;\n",
       "    }\n",
       "\n",
       "    .dataframe tbody tr th {\n",
       "        vertical-align: top;\n",
       "    }\n",
       "\n",
       "    .dataframe thead th {\n",
       "        text-align: right;\n",
       "    }\n",
       "</style>\n",
       "<table border=\"1\" class=\"dataframe\">\n",
       "  <thead>\n",
       "    <tr style=\"text-align: right;\">\n",
       "      <th></th>\n",
       "      <th>Id</th>\n",
       "      <th>PID</th>\n",
       "      <th>MS SubClass</th>\n",
       "      <th>Lot Frontage</th>\n",
       "      <th>Lot Area</th>\n",
       "      <th>Alley</th>\n",
       "      <th>Overall Qual</th>\n",
       "      <th>Overall Cond</th>\n",
       "      <th>Year Built</th>\n",
       "      <th>Year Remod/Add</th>\n",
       "      <th>...</th>\n",
       "      <th>Sale Type_COD</th>\n",
       "      <th>Sale Type_CWD</th>\n",
       "      <th>Sale Type_Con</th>\n",
       "      <th>Sale Type_ConLD</th>\n",
       "      <th>Sale Type_ConLI</th>\n",
       "      <th>Sale Type_ConLw</th>\n",
       "      <th>Sale Type_New</th>\n",
       "      <th>Sale Type_Oth</th>\n",
       "      <th>Sale Type_VWD</th>\n",
       "      <th>Sale Type_WD</th>\n",
       "    </tr>\n",
       "  </thead>\n",
       "  <tbody>\n",
       "    <tr>\n",
       "      <th>0</th>\n",
       "      <td>2658</td>\n",
       "      <td>902301120</td>\n",
       "      <td>190</td>\n",
       "      <td>69.0</td>\n",
       "      <td>9142</td>\n",
       "      <td>1</td>\n",
       "      <td>6</td>\n",
       "      <td>8</td>\n",
       "      <td>1910</td>\n",
       "      <td>1950</td>\n",
       "      <td>...</td>\n",
       "      <td>0</td>\n",
       "      <td>0</td>\n",
       "      <td>0</td>\n",
       "      <td>0</td>\n",
       "      <td>0</td>\n",
       "      <td>0</td>\n",
       "      <td>0</td>\n",
       "      <td>0</td>\n",
       "      <td>0</td>\n",
       "      <td>1</td>\n",
       "    </tr>\n",
       "    <tr>\n",
       "      <th>1</th>\n",
       "      <td>2718</td>\n",
       "      <td>905108090</td>\n",
       "      <td>90</td>\n",
       "      <td>70.0</td>\n",
       "      <td>9662</td>\n",
       "      <td>0</td>\n",
       "      <td>5</td>\n",
       "      <td>4</td>\n",
       "      <td>1977</td>\n",
       "      <td>1977</td>\n",
       "      <td>...</td>\n",
       "      <td>0</td>\n",
       "      <td>0</td>\n",
       "      <td>0</td>\n",
       "      <td>0</td>\n",
       "      <td>0</td>\n",
       "      <td>0</td>\n",
       "      <td>0</td>\n",
       "      <td>0</td>\n",
       "      <td>0</td>\n",
       "      <td>1</td>\n",
       "    </tr>\n",
       "    <tr>\n",
       "      <th>2</th>\n",
       "      <td>2414</td>\n",
       "      <td>528218130</td>\n",
       "      <td>60</td>\n",
       "      <td>58.0</td>\n",
       "      <td>17104</td>\n",
       "      <td>0</td>\n",
       "      <td>7</td>\n",
       "      <td>5</td>\n",
       "      <td>2006</td>\n",
       "      <td>2006</td>\n",
       "      <td>...</td>\n",
       "      <td>0</td>\n",
       "      <td>0</td>\n",
       "      <td>0</td>\n",
       "      <td>0</td>\n",
       "      <td>0</td>\n",
       "      <td>0</td>\n",
       "      <td>1</td>\n",
       "      <td>0</td>\n",
       "      <td>0</td>\n",
       "      <td>0</td>\n",
       "    </tr>\n",
       "    <tr>\n",
       "      <th>3</th>\n",
       "      <td>1989</td>\n",
       "      <td>902207150</td>\n",
       "      <td>30</td>\n",
       "      <td>60.0</td>\n",
       "      <td>8520</td>\n",
       "      <td>0</td>\n",
       "      <td>5</td>\n",
       "      <td>6</td>\n",
       "      <td>1923</td>\n",
       "      <td>2006</td>\n",
       "      <td>...</td>\n",
       "      <td>0</td>\n",
       "      <td>0</td>\n",
       "      <td>0</td>\n",
       "      <td>0</td>\n",
       "      <td>0</td>\n",
       "      <td>0</td>\n",
       "      <td>0</td>\n",
       "      <td>0</td>\n",
       "      <td>0</td>\n",
       "      <td>1</td>\n",
       "    </tr>\n",
       "    <tr>\n",
       "      <th>4</th>\n",
       "      <td>625</td>\n",
       "      <td>535105100</td>\n",
       "      <td>20</td>\n",
       "      <td>70.0</td>\n",
       "      <td>9500</td>\n",
       "      <td>0</td>\n",
       "      <td>6</td>\n",
       "      <td>5</td>\n",
       "      <td>1963</td>\n",
       "      <td>1963</td>\n",
       "      <td>...</td>\n",
       "      <td>0</td>\n",
       "      <td>0</td>\n",
       "      <td>0</td>\n",
       "      <td>0</td>\n",
       "      <td>0</td>\n",
       "      <td>0</td>\n",
       "      <td>0</td>\n",
       "      <td>0</td>\n",
       "      <td>0</td>\n",
       "      <td>1</td>\n",
       "    </tr>\n",
       "  </tbody>\n",
       "</table>\n",
       "<p>5 rows × 300 columns</p>\n",
       "</div>"
      ],
      "text/plain": [
       "     Id        PID  MS SubClass  Lot Frontage  Lot Area  Alley  Overall Qual  \\\n",
       "0  2658  902301120          190          69.0      9142      1             6   \n",
       "1  2718  905108090           90          70.0      9662      0             5   \n",
       "2  2414  528218130           60          58.0     17104      0             7   \n",
       "3  1989  902207150           30          60.0      8520      0             5   \n",
       "4   625  535105100           20          70.0      9500      0             6   \n",
       "\n",
       "   Overall Cond  Year Built  Year Remod/Add  ...  Sale Type_COD  \\\n",
       "0             8        1910            1950  ...              0   \n",
       "1             4        1977            1977  ...              0   \n",
       "2             5        2006            2006  ...              0   \n",
       "3             6        1923            2006  ...              0   \n",
       "4             5        1963            1963  ...              0   \n",
       "\n",
       "   Sale Type_CWD  Sale Type_Con  Sale Type_ConLD  Sale Type_ConLI  \\\n",
       "0              0              0                0                0   \n",
       "1              0              0                0                0   \n",
       "2              0              0                0                0   \n",
       "3              0              0                0                0   \n",
       "4              0              0                0                0   \n",
       "\n",
       "   Sale Type_ConLw  Sale Type_New  Sale Type_Oth  Sale Type_VWD  Sale Type_WD   \n",
       "0                0              0              0              0              1  \n",
       "1                0              0              0              0              1  \n",
       "2                0              1              0              0              0  \n",
       "3                0              0              0              0              1  \n",
       "4                0              0              0              0              1  \n",
       "\n",
       "[5 rows x 300 columns]"
      ]
     },
     "execution_count": 11,
     "metadata": {},
     "output_type": "execute_result"
    }
   ],
   "source": [
    "train_df_dummies = pd.get_dummies(train_poly_df)\n",
    "test_df_dummies = pd.get_dummies(test_poly_df)\n",
    "test_df_dummies.head()"
   ]
  },
  {
   "cell_type": "markdown",
   "metadata": {},
   "source": [
    "The purpose of this part is to create equal amounts of columns on both datasets for prediction purposes, new columns will be made with the value of 0 in all"
   ]
  },
  {
   "cell_type": "code",
   "execution_count": 12,
   "metadata": {},
   "outputs": [],
   "source": [
    "train_col_difs = list(set(train_df_dummies.columns) - set(test_df_dummies.columns))\n",
    "train_col_difs.remove('SalePrice')"
   ]
  },
  {
   "cell_type": "code",
   "execution_count": 13,
   "metadata": {},
   "outputs": [],
   "source": [
    "for col in train_col_difs:\n",
    "    test_df_dummies[col] = 0"
   ]
  },
  {
   "cell_type": "code",
   "execution_count": 14,
   "metadata": {},
   "outputs": [],
   "source": [
    "test_col_difs = list(set(test_df_dummies.columns) - set(train_df_dummies.columns))\n",
    "for col in test_col_difs:\n",
    "    train_df_dummies[col] = 0"
   ]
  },
  {
   "cell_type": "markdown",
   "metadata": {},
   "source": [
    "<a id='model'></a>\n",
    "### Modeling\n",
    "This is where I'll start to set up my x and y, train/test split, StandardScaler and some functions for ease"
   ]
  },
  {
   "cell_type": "code",
   "execution_count": 15,
   "metadata": {},
   "outputs": [],
   "source": [
    "# selecting my X and y\n",
    "X = train_df_dummies.drop(['SalePrice'], axis = 1)\n",
    "y = train_df_dummies.SalePrice"
   ]
  },
  {
   "cell_type": "code",
   "execution_count": 16,
   "metadata": {},
   "outputs": [],
   "source": [
    "# train/test split\n",
    "X_train, X_test, y_train, y_test = train_test_split(X, y, random_state=42)"
   ]
  },
  {
   "cell_type": "code",
   "execution_count": 17,
   "metadata": {},
   "outputs": [],
   "source": [
    "#Standard Scaler\n",
    "ss = StandardScaler()\n",
    "X_train_sc = ss.fit_transform(X_train)\n",
    "X_test_sc = ss.transform(X_test)\n",
    "\n",
    "test_sc = ss.fit_transform(test_df_dummies)"
   ]
  },
  {
   "cell_type": "code",
   "execution_count": 18,
   "metadata": {},
   "outputs": [],
   "source": [
    "## Creating a function that takes the features that we selected from test_c.csv\n",
    "# Makes a prediction based on which model we used\n",
    "# Creates a new DF with ID and SalesPrice prediction for that model \n",
    "# Saves it as a csv to be submitted\n",
    "\n",
    "def preds_to_csv(file_name, model, test_X):\n",
    "    preds = model.predict(test_X) # creating the prediction based on features\n",
    "    \n",
    "    to_submit = pd.DataFrame() # Create a new empty DF \n",
    "    to_submit['Id'] = test_poly_df['Id'] # creating a new column with ID\n",
    "    to_submit['SalePrice'] = preds # creating a new column with our Sales Predictions\n",
    "    \n",
    "    to_submit.to_csv(file_name, index=False) #creating a new csv to be submitted to Kaggle"
   ]
  },
  {
   "cell_type": "code",
   "execution_count": 19,
   "metadata": {},
   "outputs": [],
   "source": [
    "# Creating a function that outputs the score for my models\n",
    "def scores(X_train, y_train, X_test, y_test, model):\n",
    "    \n",
    "    model = model.fit(X_train, y_train) # fitting the model\n",
    "    y_preds = model.predict(X_test) #predicting the model off test split\n",
    "    y_preds_train = model.predict(X_train) # predicting the model off train split\n",
    "    \n",
    "    # scoring\n",
    "    print('Train Score: ', model.score(X_train, y_train))\n",
    "    print('Test Score: ', model.score(X_test, y_test))\n",
    "    print('')\n",
    "    print('R2: ', r2_score(y_test, y_preds))\n",
    "    print('MAE: ', mean_absolute_error(y_test, y_preds))\n",
    "    print('MSE: ', mean_squared_error(y_test, y_preds))\n",
    "    print('Train RMSE: ', np.sqrt(mean_squared_error(y_train, y_preds_train)))\n",
    "    print('Test RMSE: ', np.sqrt(mean_squared_error(y_test, y_preds)))"
   ]
  },
  {
   "cell_type": "markdown",
   "metadata": {},
   "source": [
    "<a id='lr'></a>\n",
    "#### Linear Regression"
   ]
  },
  {
   "cell_type": "code",
   "execution_count": 20,
   "metadata": {},
   "outputs": [],
   "source": [
    "lr = LinearRegression()"
   ]
  },
  {
   "cell_type": "code",
   "execution_count": 21,
   "metadata": {},
   "outputs": [
    {
     "data": {
      "text/plain": [
       "0.7746603879686779"
      ]
     },
     "execution_count": 21,
     "metadata": {},
     "output_type": "execute_result"
    }
   ],
   "source": [
    "cross_val_score(lr,X,y, cv=5).mean()"
   ]
  },
  {
   "cell_type": "code",
   "execution_count": 22,
   "metadata": {},
   "outputs": [
    {
     "name": "stdout",
     "output_type": "stream",
     "text": [
      "Train Score:  0.9576435083874703\n",
      "Test Score:  0.9166341200844322\n",
      "\n",
      "R2:  0.9166341200844322\n",
      "MAE:  15247.028627960175\n",
      "MSE:  511868564.3457163\n",
      "Train RMSE:  16367.17715237703\n",
      "Test RMSE:  22624.512466475742\n"
     ]
    }
   ],
   "source": [
    "scores(X_train, y_train, X_test, y_test, lr)"
   ]
  },
  {
   "cell_type": "markdown",
   "metadata": {},
   "source": [
    "- Way overfitted"
   ]
  },
  {
   "cell_type": "markdown",
   "metadata": {},
   "source": [
    "<a id='lasso'></a>\n",
    "#### LassoCV"
   ]
  },
  {
   "cell_type": "code",
   "execution_count": 23,
   "metadata": {},
   "outputs": [
    {
     "name": "stdout",
     "output_type": "stream",
     "text": [
      "Train Score:  0.9342913108242047\n",
      "Test Score:  0.9280601582521963\n",
      "\n",
      "R2:  0.9280601582521963\n",
      "MAE:  14421.644389391917\n",
      "MSE:  441712407.42616814\n",
      "Train RMSE:  20385.67962480162\n",
      "Test RMSE:  21016.95523681221\n"
     ]
    }
   ],
   "source": [
    "lasso = LassoCV()\n",
    "scores(X_train_sc, y_train, X_test_sc, y_test, lasso)"
   ]
  },
  {
   "cell_type": "markdown",
   "metadata": {},
   "source": [
    "- Great RMSE and score comparison between train and test scores, I am optimistic\n",
    "- Will do a GridSearch to find best alpha"
   ]
  },
  {
   "cell_type": "code",
   "execution_count": 24,
   "metadata": {},
   "outputs": [],
   "source": [
    "# preds_to_csv('./datasets/Kaggle Submissions/lassocv_1h.csv', lasso, test_sc)"
   ]
  },
  {
   "cell_type": "markdown",
   "metadata": {},
   "source": [
    "<a id='ridge'></a>\n",
    "#### RidgeCV"
   ]
  },
  {
   "cell_type": "code",
   "execution_count": 25,
   "metadata": {},
   "outputs": [
    {
     "name": "stdout",
     "output_type": "stream",
     "text": [
      "Train Score:  0.9573316884658397\n",
      "Test Score:  0.9182908650213039\n",
      "\n",
      "R2:  0.9182908650213039\n",
      "MAE:  15057.571774044056\n",
      "MSE:  501696109.4615069\n",
      "Train RMSE:  16427.312602454072\n",
      "Test RMSE:  22398.5738265075\n"
     ]
    }
   ],
   "source": [
    "ridge = RidgeCV()\n",
    "scores(X_train_sc, y_train, X_test_sc, y_test, ridge)"
   ]
  },
  {
   "cell_type": "markdown",
   "metadata": {},
   "source": [
    "- Again, overfit, big gap between train and test scores"
   ]
  },
  {
   "cell_type": "markdown",
   "metadata": {},
   "source": [
    "<a id ='lassogs'></a>\n",
    "#### Lasso GridSearch"
   ]
  },
  {
   "cell_type": "code",
   "execution_count": 26,
   "metadata": {},
   "outputs": [],
   "source": [
    "lasso_params = {\n",
    "    'alpha' : range(100, 1051, 1), # start at 100 alpha, go up to 1050 and do 1 step\n",
    "}"
   ]
  },
  {
   "cell_type": "code",
   "execution_count": 27,
   "metadata": {},
   "outputs": [],
   "source": [
    "lasso1h_gridsearch = GridSearchCV(Lasso(),\n",
    "                               lasso_params,\n",
    "                               cv=5,\n",
    "                               verbose = 1,\n",
    "                               n_jobs=-1)"
   ]
  },
  {
   "cell_type": "markdown",
   "metadata": {},
   "source": [
    "### RUN AT OWN  RISK! \n",
    "- The GridSearch: Fit 5 folds for each of 951 candidates, totalling 4755 fits\n",
    "    - Took 3.4 min for me\n",
    "- The output:\n",
    "|   |   |   | \n",
    "|---|---|---|\n",
    "|Train Score:|   |0.9383492649018759   |\n",
    "|Test Score:|  | 0.9294985289075809 |\n",
    "|R2:   |   |0.9294985289075809   |\n",
    "|MAE:|   |14260.854377947337|\n",
    "|MSE:|  | 432880776.0307536 |\n",
    "|Train RMSE: | |19746.172315707885|\n",
    "|Test RMSE:  |   |20805.787080299404 |\n",
    "\n",
    "        - Best score : 0.8023093685432408\n",
    "        - Best params : {'alpha': 1050}"
   ]
  },
  {
   "cell_type": "code",
   "execution_count": null,
   "metadata": {},
   "outputs": [
    {
     "name": "stdout",
     "output_type": "stream",
     "text": [
      "Fitting 5 folds for each of 951 candidates, totalling 4755 fits\n"
     ]
    },
    {
     "name": "stderr",
     "output_type": "stream",
     "text": [
      "[Parallel(n_jobs=-1)]: Using backend LokyBackend with 12 concurrent workers.\n",
      "[Parallel(n_jobs=-1)]: Done  26 tasks      | elapsed:    4.1s\n",
      "[Parallel(n_jobs=-1)]: Done 176 tasks      | elapsed:   15.5s\n",
      "[Parallel(n_jobs=-1)]: Done 426 tasks      | elapsed:   31.8s\n"
     ]
    }
   ],
   "source": [
    "scores(X_train_sc, y_train, X_test_sc, y_test, lasso1h_gridsearch)"
   ]
  },
  {
   "cell_type": "code",
   "execution_count": null,
   "metadata": {},
   "outputs": [],
   "source": [
    "lasso1h_gridsearch.best_score_"
   ]
  },
  {
   "cell_type": "code",
   "execution_count": null,
   "metadata": {},
   "outputs": [],
   "source": [
    "lasso1h_gridsearch.best_params_"
   ]
  },
  {
   "cell_type": "code",
   "execution_count": null,
   "metadata": {},
   "outputs": [],
   "source": [
    "#preds_to_csv('./datasets/Kaggle Submissions/lassogs_1h_tryagain.csv', lasso1h_gridsearch, test_sc)"
   ]
  },
  {
   "cell_type": "code",
   "execution_count": null,
   "metadata": {},
   "outputs": [],
   "source": [
    "preds = lasso.predict(X_test_sc) # predicting outside of the function\n",
    "\n",
    "plt.figure(figsize=(10,10))\n",
    "plt.scatter(preds, y_test, label=None, c='#66b2b2') # predictions and 'y_true of test split'\n",
    "\n",
    "#lines\n",
    "plt.plot((0, y_test.max()), (0,y_test.max()), 'k--', label='Predictions')\n",
    "plt.plot((181486, 181486), (0,y_test.max()), '-', color='orange', label='Average Home Price')\n",
    "\n",
    "plt.title('Home Prices vs. Predictions', fontsize=25)\n",
    "plt.xlabel('Predicted Price', fontsize=15)\n",
    "plt.ylabel('Actual Price', fontsize=15)\n",
    "\n",
    "plt.annotate(' $181,486', (181486,y_test.max()), fontsize=15)\n",
    "\n",
    "plt.legend(fontsize=12, loc='lower right', shadow='True');"
   ]
  },
  {
   "cell_type": "markdown",
   "metadata": {},
   "source": [
    "### How EXCITING!!!\n",
    "However putting it into Kaggle gave me the worst score at 39k\n",
    "OUCH!\n",
    "\n",
    "- This was mostly an experimental try, there are way too many columns in each dataset.\n",
    "- The train dataset scores were pretty good and I decided to continue on and submit at the end, had I submitted at LassoCV I would have seen that I was on the wrong track for the test dataset and approached attempt 3.\n",
    "\n",
    "\n",
    "- So far Attempt one (Notebooks labeled OG) have had the best results both in the training and testing dataset"
   ]
  }
 ],
 "metadata": {
  "kernelspec": {
   "display_name": "Python 3",
   "language": "python",
   "name": "python3"
  },
  "language_info": {
   "codemirror_mode": {
    "name": "ipython",
    "version": 3
   },
   "file_extension": ".py",
   "mimetype": "text/x-python",
   "name": "python",
   "nbconvert_exporter": "python",
   "pygments_lexer": "ipython3",
   "version": "3.8.5"
  }
 },
 "nbformat": 4,
 "nbformat_minor": 4
}
